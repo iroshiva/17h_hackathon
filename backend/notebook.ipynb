{
 "cells": [
  {
   "cell_type": "markdown",
   "id": "acquired-deputy",
   "metadata": {},
   "source": [
    "## Utilisation de l'API"
   ]
  },
  {
   "cell_type": "code",
   "execution_count": 1,
   "id": "quality-belarus",
   "metadata": {},
   "outputs": [],
   "source": [
    "import requests"
   ]
  },
  {
   "cell_type": "code",
   "execution_count": 2,
   "id": "sunset-heating",
   "metadata": {},
   "outputs": [],
   "source": [
    "# Obtenir un url en partant d'un dictionnaire\n",
    "def build_url(values):\n",
    "    return \"/\".join(['%s' % values[key] for key in values])"
   ]
  },
  {
   "cell_type": "code",
   "execution_count": 3,
   "id": "neutral-leadership",
   "metadata": {},
   "outputs": [],
   "source": [
    "# Définir les variables d'entrées\n",
    "dict_of_values = {\n",
    "    \"Alimentation\":'B',\n",
    "    \"Sommeil\":'A',\n",
    "    \"Social (conflit)\":'B',\n",
    "    \"Stress/Anxiete\":'Z',\n",
    "    \"Attention\":'B'\n",
    "}"
   ]
  },
  {
   "cell_type": "markdown",
   "id": "corrected-ending",
   "metadata": {},
   "source": [
    "Exemple avec les métiers"
   ]
  },
  {
   "cell_type": "code",
   "execution_count": 13,
   "id": "interstate-basement",
   "metadata": {},
   "outputs": [
    {
     "name": "stdout",
     "output_type": "stream",
     "text": [
      "\"Le prototype actuel est en cours pour ce type de questionnaire\"\n",
      "\n"
     ]
    }
   ],
   "source": [
    "# Utiliser la fonction build_url() pour compléter l'url d'origine\n",
    "# /professions pour obtenir les métiers\n",
    "# /practitioners pour obtenir les practiciens\n",
    "# url = f\"http://127.0.0.1:5000/professions/{build_url(dict_of_values)}\"\n",
    "url = \"http://127.0.0.1:5000/professions/Z/Z/Z/Z/Z\"\n",
    "# Utiliser l'API qui tourne dans le serveur pour obtenir le résultat\n",
    "response = requests.get(url)\n",
    "print(response.text)"
   ]
  },
  {
   "cell_type": "markdown",
   "id": "powered-mediterranean",
   "metadata": {},
   "source": [
    "Exemple avec les practiciens"
   ]
  },
  {
   "cell_type": "code",
   "execution_count": 5,
   "id": "accompanied-lesbian",
   "metadata": {},
   "outputs": [
    {
     "name": "stdout",
     "output_type": "stream",
     "text": [
      "[\n",
      "    {\n",
      "        \"id_practitioner\": 2,\n",
      "        \"name\": \"Camille\",\n",
      "        \"genre\": \"F\",\n",
      "        \"id_profession\": 3\n",
      "    }\n",
      "]\n",
      "\n"
     ]
    }
   ],
   "source": [
    "url = f\"http://127.0.0.1:5000/practitioners/{build_url(dict_of_values)}\"\n",
    "\n",
    "response = requests.get(url)\n",
    "print(response.text)"
   ]
  },
  {
   "cell_type": "code",
   "execution_count": null,
   "id": "surprised-shaft",
   "metadata": {},
   "outputs": [],
   "source": []
  }
 ],
 "metadata": {
  "kernelspec": {
   "display_name": "Python 3",
   "language": "python",
   "name": "python3"
  },
  "language_info": {
   "codemirror_mode": {
    "name": "ipython",
    "version": 3
   },
   "file_extension": ".py",
   "mimetype": "text/x-python",
   "name": "python",
   "nbconvert_exporter": "python",
   "pygments_lexer": "ipython3",
   "version": "3.8.8"
  }
 },
 "nbformat": 4,
 "nbformat_minor": 5
}
